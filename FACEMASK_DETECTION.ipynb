{
  "nbformat": 4,
  "nbformat_minor": 0,
  "metadata": {
    "colab": {
      "provenance": [],
      "toc_visible": true
    },
    "kernelspec": {
      "name": "python3",
      "display_name": "Python 3"
    },
    "language_info": {
      "name": "python"
    }
  },
  "cells": [
    {
      "cell_type": "markdown",
      "source": [
        "## **FACE MASK DETECTION:**"
      ],
      "metadata": {
        "id": "Q3lx7q5ymHey"
      }
    },
    {
      "cell_type": "markdown",
      "source": [
        "## Prepare the dataset\n",
        "\n",
        "------"
      ],
      "metadata": {
        "id": "OUBYFB7phn-a"
      }
    },
    {
      "cell_type": "code",
      "source": [
        "# Install this package to use Colab's GPU for training\n",
        "!apt install --allow-change-held-packages libcudnn8=8.4.1.50-1+cuda11.6"
      ],
      "metadata": {
        "colab": {
          "base_uri": "https://localhost:8080/"
        },
        "id": "yPAh8p_Li8R_",
        "outputId": "ba3642a8-0b46-4487-eaec-e63ddcb93913"
      },
      "execution_count": null,
      "outputs": [
        {
          "output_type": "stream",
          "name": "stdout",
          "text": [
            "Reading package lists... Done\n",
            "Building dependency tree       \n",
            "Reading state information... Done\n",
            "The following packages will be REMOVED:\n",
            "  libcudnn8-dev\n",
            "The following held packages will be changed:\n",
            "  libcudnn8\n",
            "The following packages will be DOWNGRADED:\n",
            "  libcudnn8\n",
            "0 upgraded, 0 newly installed, 1 downgraded, 1 to remove and 12 not upgraded.\n",
            "Need to get 420 MB of archives.\n",
            "After this operation, 1,257 MB disk space will be freed.\n",
            "Get:1 https://developer.download.nvidia.com/compute/cuda/repos/ubuntu2004/x86_64  libcudnn8 8.4.1.50-1+cuda11.6 [420 MB]\n",
            "Fetched 420 MB in 6s (70.8 MB/s)\n",
            "(Reading database ... 123069 files and directories currently installed.)\n",
            "Removing libcudnn8-dev (8.9.0.131-1+cuda11.8) ...\n",
            "update-alternatives: removing manually selected alternative - switching libcudnn to auto mode\n",
            "\u001b[1mdpkg:\u001b[0m \u001b[1;33mwarning:\u001b[0m downgrading libcudnn8 from 8.9.0.131-1+cuda11.8 to 8.4.1.50-1+cuda11.6\n",
            "(Reading database ... 123036 files and directories currently installed.)\n",
            "Preparing to unpack .../libcudnn8_8.4.1.50-1+cuda11.6_amd64.deb ...\n",
            "Unpacking libcudnn8 (8.4.1.50-1+cuda11.6) over (8.9.0.131-1+cuda11.8) ...\n",
            "Setting up libcudnn8 (8.4.1.50-1+cuda11.6) ...\n"
          ]
        }
      ]
    },
    {
      "cell_type": "code",
      "source": [
        "import os\n",
        "import zipfile\n",
        "import random\n",
        "import shutil\n",
        "import tensorflow as tf\n",
        "from tensorflow.keras import layers\n",
        "from tensorflow.keras import Model\n",
        "from tensorflow.keras.optimizers import Adam\n",
        "from tensorflow.keras.preprocessing.image import ImageDataGenerator\n",
        "from tensorflow.keras.applications import MobileNetV2\n",
        "from shutil import copyfile\n",
        "import matplotlib.pyplot as plt"
      ],
      "metadata": {
        "id": "T9peNf_csw0B"
      },
      "execution_count": null,
      "outputs": []
    },
    {
      "cell_type": "code",
      "source": [
        "!pip install roboflow\n",
        "\n",
        "from roboflow import Roboflow\n",
        "rf = Roboflow(api_key=\"7lQTJunJjBQHKweJnj4h\")\n",
        "project = rf.workspace(\"pyimagesearch\").project(\"covid-19-pis\")\n",
        "dataset = project.version(2).download(\"folder\")"
      ],
      "metadata": {
        "id": "K2hHa19doJkI",
        "colab": {
          "base_uri": "https://localhost:8080/",
          "height": 1000
        },
        "outputId": "2fc21102-bc9b-4865-e30e-1d05f14c8968"
      },
      "execution_count": null,
      "outputs": [
        {
          "output_type": "stream",
          "name": "stdout",
          "text": [
            "Collecting roboflow\n",
            "  Downloading roboflow-1.1.0-py3-none-any.whl (57 kB)\n",
            "\u001b[?25l     \u001b[90m━━━━━━━━━━━━━━━━━━━━━━━━━━━━━━━━━━━━━━━━\u001b[0m \u001b[32m0.0/57.0 kB\u001b[0m \u001b[31m?\u001b[0m eta \u001b[36m-:--:--\u001b[0m\r\u001b[2K     \u001b[90m━━━━━━━━━━━━━━━━━━━━━━━━━━━━━━━━━━━━━━━━\u001b[0m \u001b[32m57.0/57.0 kB\u001b[0m \u001b[31m2.3 MB/s\u001b[0m eta \u001b[36m0:00:00\u001b[0m\n",
            "\u001b[?25hCollecting certifi==2022.12.7 (from roboflow)\n",
            "  Downloading certifi-2022.12.7-py3-none-any.whl (155 kB)\n",
            "\u001b[?25l     \u001b[90m━━━━━━━━━━━━━━━━━━━━━━━━━━━━━━━━━━━━━━━━\u001b[0m \u001b[32m0.0/155.3 kB\u001b[0m \u001b[31m?\u001b[0m eta \u001b[36m-:--:--\u001b[0m\r\u001b[2K     \u001b[90m━━━━━━━━━━━━━━━━━━━━━━━━━━━━━━━━━━━━━━━\u001b[0m \u001b[32m155.3/155.3 kB\u001b[0m \u001b[31m6.8 MB/s\u001b[0m eta \u001b[36m0:00:00\u001b[0m\n",
            "\u001b[?25hRequirement already satisfied: chardet==4.0.0 in /usr/local/lib/python3.10/dist-packages (from roboflow) (4.0.0)\n",
            "Collecting cycler==0.10.0 (from roboflow)\n",
            "  Downloading cycler-0.10.0-py2.py3-none-any.whl (6.5 kB)\n",
            "Collecting idna==2.10 (from roboflow)\n",
            "  Downloading idna-2.10-py2.py3-none-any.whl (58 kB)\n",
            "\u001b[2K     \u001b[90m━━━━━━━━━━━━━━━━━━━━━━━━━━━━━━━━━━━━━━━━\u001b[0m \u001b[32m58.8/58.8 kB\u001b[0m \u001b[31m5.7 MB/s\u001b[0m eta \u001b[36m0:00:00\u001b[0m\n",
            "\u001b[?25hRequirement already satisfied: kiwisolver>=1.3.1 in /usr/local/lib/python3.10/dist-packages (from roboflow) (1.4.4)\n",
            "Requirement already satisfied: matplotlib in /usr/local/lib/python3.10/dist-packages (from roboflow) (3.7.1)\n",
            "Requirement already satisfied: numpy>=1.18.5 in /usr/local/lib/python3.10/dist-packages (from roboflow) (1.22.4)\n",
            "Requirement already satisfied: opencv-python>=4.1.2 in /usr/local/lib/python3.10/dist-packages (from roboflow) (4.7.0.72)\n",
            "Requirement already satisfied: Pillow>=7.1.2 in /usr/local/lib/python3.10/dist-packages (from roboflow) (8.4.0)\n",
            "Collecting pyparsing==2.4.7 (from roboflow)\n",
            "  Downloading pyparsing-2.4.7-py2.py3-none-any.whl (67 kB)\n",
            "\u001b[2K     \u001b[90m━━━━━━━━━━━━━━━━━━━━━━━━━━━━━━━━━━━━━━━━\u001b[0m \u001b[32m67.8/67.8 kB\u001b[0m \u001b[31m6.3 MB/s\u001b[0m eta \u001b[36m0:00:00\u001b[0m\n",
            "\u001b[?25hRequirement already satisfied: python-dateutil in /usr/local/lib/python3.10/dist-packages (from roboflow) (2.8.2)\n",
            "Collecting python-dotenv (from roboflow)\n",
            "  Downloading python_dotenv-1.0.0-py3-none-any.whl (19 kB)\n",
            "Requirement already satisfied: requests in /usr/local/lib/python3.10/dist-packages (from roboflow) (2.27.1)\n",
            "Requirement already satisfied: six in /usr/local/lib/python3.10/dist-packages (from roboflow) (1.16.0)\n",
            "Collecting supervision (from roboflow)\n",
            "  Downloading supervision-0.11.1-py3-none-any.whl (55 kB)\n",
            "\u001b[2K     \u001b[90m━━━━━━━━━━━━━━━━━━━━━━━━━━━━━━━━━━━━━━━━\u001b[0m \u001b[32m55.6/55.6 kB\u001b[0m \u001b[31m5.0 MB/s\u001b[0m eta \u001b[36m0:00:00\u001b[0m\n",
            "\u001b[?25hRequirement already satisfied: urllib3>=1.26.6 in /usr/local/lib/python3.10/dist-packages (from roboflow) (1.26.16)\n",
            "Collecting wget (from roboflow)\n",
            "  Downloading wget-3.2.zip (10 kB)\n",
            "  Preparing metadata (setup.py) ... \u001b[?25l\u001b[?25hdone\n",
            "Requirement already satisfied: tqdm>=4.41.0 in /usr/local/lib/python3.10/dist-packages (from roboflow) (4.65.0)\n",
            "Requirement already satisfied: PyYAML>=5.3.1 in /usr/local/lib/python3.10/dist-packages (from roboflow) (6.0)\n",
            "Collecting requests-toolbelt (from roboflow)\n",
            "  Downloading requests_toolbelt-1.0.0-py2.py3-none-any.whl (54 kB)\n",
            "\u001b[2K     \u001b[90m━━━━━━━━━━━━━━━━━━━━━━━━━━━━━━━━━━━━━━━━\u001b[0m \u001b[32m54.5/54.5 kB\u001b[0m \u001b[31m5.9 MB/s\u001b[0m eta \u001b[36m0:00:00\u001b[0m\n",
            "\u001b[?25hRequirement already satisfied: contourpy>=1.0.1 in /usr/local/lib/python3.10/dist-packages (from matplotlib->roboflow) (1.1.0)\n",
            "Requirement already satisfied: fonttools>=4.22.0 in /usr/local/lib/python3.10/dist-packages (from matplotlib->roboflow) (4.40.0)\n",
            "Requirement already satisfied: packaging>=20.0 in /usr/local/lib/python3.10/dist-packages (from matplotlib->roboflow) (23.1)\n",
            "Requirement already satisfied: charset-normalizer~=2.0.0 in /usr/local/lib/python3.10/dist-packages (from requests->roboflow) (2.0.12)\n",
            "Building wheels for collected packages: wget\n",
            "  Building wheel for wget (setup.py) ... \u001b[?25l\u001b[?25hdone\n",
            "  Created wheel for wget: filename=wget-3.2-py3-none-any.whl size=9657 sha256=555a533d8cfda25eb1932b7c6e702bd44ef1b8efe7cbe687b5d094896a7eaa77\n",
            "  Stored in directory: /root/.cache/pip/wheels/8b/f1/7f/5c94f0a7a505ca1c81cd1d9208ae2064675d97582078e6c769\n",
            "Successfully built wget\n",
            "Installing collected packages: wget, python-dotenv, pyparsing, idna, cycler, certifi, supervision, requests-toolbelt, roboflow\n",
            "  Attempting uninstall: pyparsing\n",
            "    Found existing installation: pyparsing 3.1.0\n",
            "    Uninstalling pyparsing-3.1.0:\n",
            "      Successfully uninstalled pyparsing-3.1.0\n",
            "  Attempting uninstall: idna\n",
            "    Found existing installation: idna 3.4\n",
            "    Uninstalling idna-3.4:\n",
            "      Successfully uninstalled idna-3.4\n",
            "  Attempting uninstall: cycler\n",
            "    Found existing installation: cycler 0.11.0\n",
            "    Uninstalling cycler-0.11.0:\n",
            "      Successfully uninstalled cycler-0.11.0\n",
            "  Attempting uninstall: certifi\n",
            "    Found existing installation: certifi 2023.5.7\n",
            "    Uninstalling certifi-2023.5.7:\n",
            "      Successfully uninstalled certifi-2023.5.7\n",
            "Successfully installed certifi-2022.12.7 cycler-0.10.0 idna-2.10 pyparsing-2.4.7 python-dotenv-1.0.0 requests-toolbelt-1.0.0 roboflow-1.1.0 supervision-0.11.1 wget-3.2\n"
          ]
        },
        {
          "output_type": "display_data",
          "data": {
            "application/vnd.colab-display-data+json": {
              "pip_warning": {
                "packages": [
                  "certifi",
                  "cycler",
                  "idna",
                  "pyparsing"
                ]
              }
            }
          },
          "metadata": {}
        },
        {
          "output_type": "stream",
          "name": "stdout",
          "text": [
            "loading Roboflow workspace...\n",
            "loading Roboflow project...\n",
            "Downloading Dataset Version Zip in Covid-19-PIS-2 to folder: 87% [30236672 / 34499741] bytes"
          ]
        }
      ]
    },
    {
      "cell_type": "code",
      "source": [
        "source_path = '/content/Covid-19-PIS-2/train'\n",
        "\n",
        "source_path_with_mask = os.path.join(source_path, 'with_mask')\n",
        "source_path_without_mask = os.path.join(source_path, 'without_mask')\n",
        "\n",
        "# os.listdir returns a list containing all files under the given path\n",
        "print(f\"There are {len(os.listdir(source_path_with_mask))} images with mask.\")\n",
        "print(f\"There are {len(os.listdir(source_path_without_mask))} images without mask.\")"
      ],
      "metadata": {
        "id": "SYJ-5GzpuTep"
      },
      "execution_count": null,
      "outputs": []
    },
    {
      "cell_type": "markdown",
      "source": [
        "We need a directory for mask-v-no_mask, and subdirectories for training\n",
        "and validation. These in turn will need subdirectories for 'mask' and 'no_mask'. To accomplish this, we define the function below"
      ],
      "metadata": {
        "id": "Xcf7-2SrueyS"
      }
    },
    {
      "cell_type": "code",
      "source": [
        "# Define root directory\n",
        "\n",
        "root_dir = '/tmp/mask-v-no_mask'\n",
        "\n",
        "# Empty directory to prevent FileExistsError is the function is run several times\n",
        "if os.path.exists(root_dir):\n",
        "  shutil.rmtree(root_dir)\n",
        "\n",
        "#  create_train_val_dirs\n",
        "def create_train_val_dirs(root_path):\n",
        "  \"\"\"\n",
        "  Creates directories for the train and test sets\n",
        "\n",
        "  Args:\n",
        "    root_path (string) - the base directory path to create subdirectories from\n",
        "\n",
        "  Returns:\n",
        "    None\n",
        "  \"\"\"\n",
        "\n",
        "  ### START CODE HERE\n",
        "\n",
        "  # HINT:\n",
        "  # Use os.makedirs to create your directories with intermediate subdirectories\n",
        "  # Don't hardcode the paths. Use os.path.join to append the new directories to the root_path parameter\n",
        "  source_dir = root_path\n",
        "  os.makedirs(source_dir)\n",
        "\n",
        "  training_dir = os.path.join(source_dir, 'training')\n",
        "  os.makedirs(training_dir)\n",
        "  training_mask_dir = os.path.join(training_dir, 'mask')\n",
        "  os.makedirs(training_mask_dir)\n",
        "  training_no_mask_dir = os.path.join(training_dir, 'no_mask')\n",
        "  os.makedirs(training_no_mask_dir)\n",
        "\n",
        "  validation_dir = os.path.join(source_dir, 'validation')\n",
        "  os.makedirs(validation_dir)\n",
        "  validation_mask_dir = os.path.join(validation_dir, 'mask')\n",
        "  os.makedirs(validation_mask_dir)\n",
        "  validation_mask_dir = os.path.join(validation_dir, 'no_mask')\n",
        "  os.makedirs(validation_mask_dir)\n",
        "\n",
        "  pass\n",
        "\n",
        "  ### END CODE HERE\n",
        "\n",
        "try:\n",
        "  create_train_val_dirs(root_path=root_dir)\n",
        "except FileExistsError:\n",
        "  print(\"You should not be seeing this since the upper directory is removed beforehand\")"
      ],
      "metadata": {
        "id": "AYswsWIplpRC"
      },
      "execution_count": null,
      "outputs": []
    },
    {
      "cell_type": "code",
      "source": [
        "# Test your create_train_val_dirs function\n",
        "\n",
        "for rootdir, dirs, files in os.walk(root_dir):\n",
        "    for subdir in dirs:\n",
        "        print(os.path.join(rootdir, subdir))"
      ],
      "metadata": {
        "id": "HOvMvHi8lpi0"
      },
      "execution_count": null,
      "outputs": []
    },
    {
      "cell_type": "markdown",
      "source": [
        "The `split_data` function which takes in the following arguments:\n",
        "- SOURCE_DIR: directory containing the files\n",
        "\n",
        "- TRAINING_DIR: directory that a portion of the files will be copied to (will be used for training)\n",
        "\n",
        "- VALIDATION_DIR: directory that a portion of the files will be copied to (will be used for validation)\n",
        "\n",
        "- SPLIT_SIZE: determines the portion of images used for training.\n",
        "\n",
        "The files will be randomized, so that the training set is a random sample of the files, and the validation set is made up of the remaining files.\n",
        "\n",
        "For example, if `SOURCE_DIR` is `PetImages/Cat`, and `SPLIT_SIZE` is .9 then 90% of the images in `PetImages/Cat` will be copied to the `TRAINING_DIR` directory\n",
        "and 10% of the images will be copied to the `VALIDATION_DIR` directory.\n",
        "\n",
        "All images should be checked before the copy, so if they have a zero file length, they will be omitted from the copying process. If this is the case then your function should print out a message such as `\"filename is zero length, so ignoring.\"`. **You should perform this check before the split so that only non-zero images are considered when doing the actual split.**\n",
        "\n",
        "\n",
        "Hints:\n",
        "\n",
        "- `os.listdir(DIRECTORY)` returns a list with the contents of that directory.\n",
        "\n",
        "- `os.path.getsize(PATH)` returns the size of the file\n",
        "\n",
        "- `copyfile(source, destination)` copies a file from source to destination\n",
        "\n",
        "- `random.sample(list, len(list))` shuffles a list"
      ],
      "metadata": {
        "id": "XyD8eGDUyqUp"
      }
    },
    {
      "cell_type": "code",
      "source": [
        "# split_data\n",
        "def split_data(SOURCE_DIR, TRAINING_DIR, VALIDATION_DIR, SPLIT_SIZE):\n",
        "\n",
        "  \"\"\"\n",
        "  Splits the data into train and test sets\n",
        "\n",
        "  Args:\n",
        "    SOURCE_DIR (string): directory path containing the images\n",
        "    TRAINING_DIR (string): directory path to be used for training\n",
        "    VALIDATION_DIR (string): directory path to be used for validation\n",
        "    SPLIT_SIZE (float): proportion of the dataset to be used for training\n",
        "\n",
        "  Returns:\n",
        "    None\n",
        "  \"\"\"\n",
        "  ### START CODE HERE\n",
        "\n",
        "  # To remove files with zero length/size\n",
        "  source_dir_list = os.listdir(SOURCE_DIR)\n",
        "  for fname in source_dir_list:\n",
        "    filepath = os.path.join(SOURCE_DIR, fname)\n",
        "    size = os.path.getsize(filepath)\n",
        "    if size == 0:\n",
        "      print(f'{f} is zero length, so ignoring.')\n",
        "      os.remove(filepath)\n",
        "\n",
        "  # generate the train size and list\n",
        "  source_dir_list = os.listdir(SOURCE_DIR)\n",
        "  train_size = int(len(source_dir_list) * SPLIT_SIZE)\n",
        "  train_list = random.sample(source_dir_list, train_size)\n",
        "\n",
        "  # Split\n",
        "  for fname in source_dir_list:\n",
        "    if fname in train_list:\n",
        "      copyfile(os.path.join(SOURCE_DIR, fname), os.path.join(TRAINING_DIR, fname))\n",
        "    else:\n",
        "      copyfile(os.path.join(SOURCE_DIR, fname), os.path.join(VALIDATION_DIR, fname))\n",
        "  pass\n",
        "\n",
        "  ### END CODE HERE"
      ],
      "metadata": {
        "id": "ihbpnQklmbsl"
      },
      "execution_count": null,
      "outputs": []
    },
    {
      "cell_type": "code",
      "source": [
        "# Test your split_data function\n",
        "\n",
        "# Define paths\n",
        "MASK_SOURCE_DIR = \"/content/Covid-19-PIS-2/train/with_mask\"\n",
        "NO_MASK_SOURCE_DIR = \"/content/Covid-19-PIS-2/train/without_mask\"\n",
        "\n",
        "TRAINING_DIR = \"/tmp/mask-v-no_mask/training\"\n",
        "VALIDATION_DIR = \"/tmp/mask-v-no_mask/validation/\"\n",
        "\n",
        "MASK_TRAINING_DIR = os.path.join(TRAINING_DIR, \"mask/\")\n",
        "MASK_VALIDATION_DIR = os.path.join(VALIDATION_DIR, \"mask/\")\n",
        "\n",
        "NO_MASK_TRAINING_DIR = os.path.join(TRAINING_DIR, \"no_mask/\")\n",
        "NO_MASK_VALIDATION_DIR = os.path.join(VALIDATION_DIR, \"no_mask/\")\n",
        "\n",
        "# Empty directories in case you run this cell multiple times\n",
        "if len(os.listdir(MASK_TRAINING_DIR)) > 0:\n",
        "  for file in os.scandir(MASK_TRAINING_DIR):\n",
        "    os.remove(file.path)\n",
        "if len(os.listdir(MASK_VALIDATION_DIR)) > 0:\n",
        "  for file in os.scandir(MASK_VALIDATION_DIR):\n",
        "    os.remove(file.path)\n",
        "if len(os.listdir(NO_MASK_TRAINING_DIR)) > 0:\n",
        "  for file in os.scandir(NO_MASK_TRAINING_DIR):\n",
        "    os.remove(file.path)\n",
        "if len(os.listdir(NO_MASK_VALIDATION_DIR)) > 0:\n",
        "  for file in os.scandir(NO_MASK_VALIDATION_DIR):\n",
        "    os.remove(file.path)\n",
        "\n",
        "# Define proportion of images used for training\n",
        "split_size = .9\n",
        "\n",
        "# Run the function\n",
        "# NOTE: Messages about zero length images should be printed out\n",
        "split_data(MASK_SOURCE_DIR, MASK_TRAINING_DIR, MASK_VALIDATION_DIR, split_size)\n",
        "split_data(NO_MASK_SOURCE_DIR, NO_MASK_TRAINING_DIR, NO_MASK_VALIDATION_DIR, split_size)\n",
        "\n",
        "\n",
        "# Your function should perform copies rather than moving images so original directories should contain unchanged images\n",
        "print(f\"\\n\\nOriginal mask's directory has {len(os.listdir(MASK_SOURCE_DIR))} images\")\n",
        "print(f\"Original no_mask's directory has {len(os.listdir(NO_MASK_SOURCE_DIR))} images\\n\")\n",
        "\n",
        "# Training and validation splits\n",
        "print(f\"There are {len(os.listdir(MASK_TRAINING_DIR))} images of mask for training\")\n",
        "print(f\"There are {len(os.listdir(NO_MASK_TRAINING_DIR))} images of no_mask for training\")\n",
        "print(f\"There are {len(os.listdir(MASK_VALIDATION_DIR))} images of mask for validation\")\n",
        "print(f\"There are {len(os.listdir(NO_MASK_VALIDATION_DIR))} images of no_mask for validation\")"
      ],
      "metadata": {
        "id": "oy3MYhsomeIf"
      },
      "execution_count": null,
      "outputs": []
    },
    {
      "cell_type": "markdown",
      "metadata": {
        "id": "Zil4QmOD_mXF"
      },
      "source": [
        "Now that you have successfully organized the data in a way that can be easily fed to Keras' `ImageDataGenerator`, it is time for you to code the generators that will yield batches of images, both for training and validation. For this, complete the `train_val_generators` function below.\n",
        "\n",
        "Something important to note is that the images in this dataset come in a variety of resolutions. Luckily, the `flow_from_directory` method allows you to standarize this by defining a tuple called `target_size` that will be used to convert each image to this target resolution. **For this exercise use a `target_size` of (150, 150)**."
      ]
    },
    {
      "cell_type": "code",
      "execution_count": null,
      "metadata": {
        "cellView": "code",
        "id": "fQrZfVgz4j2g",
        "tags": [
          "graded"
        ]
      },
      "outputs": [],
      "source": [
        "# train_val_generators\n",
        "\n",
        "# construct the training image generator for data augmentation\n",
        "\n",
        "def train_val_generators(TRAINING_DIR, VALIDATION_DIR):\n",
        "  \"\"\"\n",
        "  Creates the training and validation data generators\n",
        "\n",
        "  Args:\n",
        "    TRAINING_DIR (string): directory path containing the training images\n",
        "    VALIDATION_DIR (string): directory path containing the testing/validation images\n",
        "\n",
        "  Returns:\n",
        "    train_generator, validation_generator - tuple containing the generators\n",
        "  \"\"\"\n",
        "  ### START CODE HERE\n",
        "\n",
        "  # Instantiate the ImageDataGenerator class (don't forget to set the arguments to augment the images)\n",
        "  train_datagen = ImageDataGenerator(rescale=1./255,\n",
        "                                     rotation_range=25,\n",
        "                                     width_shift_range=0.2,\n",
        "                                     height_shift_range=0.2,\n",
        "                                     shear_range=0.2,\n",
        "                                     zoom_range=0.2,\n",
        "                                     horizontal_flip=True,\n",
        "                                     fill_mode='nearest')\n",
        "\n",
        "  # Pass in the appropriate arguments to the flow_from_directory method\n",
        "  train_generator = train_datagen.flow_from_directory(directory=TRAINING_DIR,\n",
        "                                                      batch_size=32,\n",
        "                                                      class_mode='categorical',\n",
        "                                                      target_size=(225, 225))\n",
        "\n",
        "  # Instantiate the ImageDataGenerator class (don't forget to set the rescale argument)\n",
        "  validation_datagen = ImageDataGenerator(rescale=1./255,\n",
        "                                          rotation_range=25,\n",
        "                                          width_shift_range=0.2,\n",
        "                                          height_shift_range=0.2,\n",
        "                                          shear_range=0.2,\n",
        "                                          zoom_range=0.2,\n",
        "                                          horizontal_flip=True,\n",
        "                                          fill_mode='nearest')\n",
        "\n",
        "  # Pass in the appropriate arguments to the flow_from_directory method\n",
        "  validation_generator = validation_datagen.flow_from_directory(directory=VALIDATION_DIR,\n",
        "                                                                batch_size=32,\n",
        "                                                                class_mode='categorical',\n",
        "                                                                target_size=(225, 225))\n",
        "  ### END CODE HERE\n",
        "  return train_generator, validation_generator\n"
      ]
    },
    {
      "cell_type": "code",
      "source": [
        "# Test your generators\n",
        "train_generator, validation_generator = train_val_generators(TRAINING_DIR, VALIDATION_DIR)"
      ],
      "metadata": {
        "id": "Sglth42fDLlk"
      },
      "execution_count": null,
      "outputs": []
    },
    {
      "cell_type": "code",
      "source": [
        "#create_pre_trained_model\n",
        "def create_pre_trained_model():\n",
        "  \"\"\"\n",
        "  Initializes an InceptionV3 model.\n",
        "\n",
        "  Args:\n",
        "    local_weights_file (string): path pointing to a pretrained weights H5 file\n",
        "\n",
        "  Returns:\n",
        "    pre_trained_model: the initialized InceptionV3 model\n",
        "  \"\"\"\n",
        "  ### START CODE HERE\n",
        "  pre_trained_model = MobileNetV2(input_shape=(225, 225, 3),\n",
        "                                  include_top = False,\n",
        "                                  weights = 'imagenet')\n",
        "\n",
        "  # Make all the layers in the pre-trained model non-trainable\n",
        "  for layer in pre_trained_model.layers:\n",
        "    layer.trainable = False\n",
        "\n",
        "  ### END CODE HERE\n",
        "\n",
        "  return pre_trained_model"
      ],
      "metadata": {
        "id": "tMVA-cRfiWJs"
      },
      "execution_count": null,
      "outputs": []
    },
    {
      "cell_type": "code",
      "source": [
        "pre_trained_model = create_pre_trained_model()\n",
        "\n",
        "# Print the model summary\n",
        "# pre_trained_model.summary()"
      ],
      "metadata": {
        "id": "2N6KO6AZjmx9"
      },
      "execution_count": null,
      "outputs": []
    },
    {
      "cell_type": "markdown",
      "metadata": {
        "id": "MRHkV9jo-hkh"
      },
      "source": [
        "To check that all the layers in the model were set to be non-trainable, you can also run the cell below:"
      ]
    },
    {
      "cell_type": "code",
      "execution_count": null,
      "metadata": {
        "id": "VASOaB8xDbhU",
        "tags": [
          "graded"
        ]
      },
      "outputs": [],
      "source": [
        "total_params = pre_trained_model.count_params()\n",
        "num_trainable_params = sum([w.shape.num_elements() for w in pre_trained_model.trainable_weights])\n",
        "\n",
        "print(f\"There are {total_params:,} total parameters in this model.\")\n",
        "print(f\"There are {num_trainable_params:,} trainable parameters in this model.\")"
      ]
    },
    {
      "cell_type": "markdown",
      "metadata": {
        "id": "dFtwDyKj-4GR"
      },
      "source": [
        "## Creating callbacks for later\n",
        "\n",
        "You have already worked with callbacks in the first course of this specialization so the callback to stop training once an accuracy of 99.9% is reached, is provided for you:"
      ]
    },
    {
      "cell_type": "code",
      "execution_count": null,
      "metadata": {
        "id": "SeVjZD2o7gWS",
        "tags": [
          "graded"
        ]
      },
      "outputs": [],
      "source": [
        "# Define a Callback class that stops training once accuracy reaches 99.9%\n",
        "class myCallback(tf.keras.callbacks.Callback):\n",
        "  def on_epoch_end(self, epoch, logs={}):\n",
        "    if(logs.get('accuracy')>0.999):\n",
        "      print(\"\\nReached 99.9% accuracy so cancelling training!\")\n",
        "      self.model.stop_training = True"
      ]
    },
    {
      "cell_type": "code",
      "source": [
        "last_output = pre_trained_model.output\n",
        "print(last_output)"
      ],
      "metadata": {
        "colab": {
          "base_uri": "https://localhost:8080/"
        },
        "id": "TT9KlFD1nFYY",
        "outputId": "a8ffaf40-48db-4c11-df80-39e08ffc580f"
      },
      "execution_count": null,
      "outputs": [
        {
          "output_type": "stream",
          "name": "stdout",
          "text": [
            "KerasTensor(type_spec=TensorSpec(shape=(None, 8, 8, 1280), dtype=tf.float32, name=None), name='out_relu/Relu6:0', description=\"created by layer 'out_relu'\")\n"
          ]
        }
      ]
    },
    {
      "cell_type": "code",
      "source": [
        "# Get type of pre-trained model\n",
        "print(f\"The pretrained model has type: {type(pre_trained_model)}\")"
      ],
      "metadata": {
        "colab": {
          "base_uri": "https://localhost:8080/"
        },
        "id": "EBTx6sGsnSkp",
        "outputId": "48d60afb-6a53-45a9-b10d-491b865578e4"
      },
      "execution_count": null,
      "outputs": [
        {
          "output_type": "stream",
          "name": "stdout",
          "text": [
            "The pretrained model has type: <class 'keras.engine.functional.Functional'>\n"
          ]
        }
      ]
    },
    {
      "cell_type": "code",
      "execution_count": null,
      "metadata": {
        "cellView": "code",
        "id": "BMXb913pbvFg",
        "tags": [
          "graded"
        ]
      },
      "outputs": [],
      "source": [
        "# Create_final_model\n",
        "def create_final_model(pre_trained_model, last_output):\n",
        "  \"\"\"\n",
        "  Appends a custom model to a pre-trained model\n",
        "\n",
        "  Args:\n",
        "    pre_trained_model (tf.keras Model): model that will accept the train/test inputs\n",
        "    last_output (tensor): last layer output of the pre-trained model\n",
        "\n",
        "  Returns:\n",
        "    model: the combined model\n",
        "  \"\"\"\n",
        "  # Flatten the output layer to 1 dimension\n",
        "  x = layers.AveragePooling2D(pool_size=(5, 5))(last_output)\n",
        "  x = layers.Flatten(name=\"flatten\")(x)\n",
        "  x = layers.Dense(128, activation=\"relu\")(x)\n",
        "  x = layers.Dropout(0.5)(x)\n",
        "  x = layers.Dense(2, activation=\"softmax\")(x)\n",
        "\n",
        "  # Create the complete model by using the Model class\n",
        "  model = Model(inputs=pre_trained_model.inputs, outputs=x)\n",
        "\n",
        "  # Compile the model\n",
        "  print(\"[INFO] compiling model...\")\n",
        "  model.compile(optimizer = Adam(learning_rate=0.0001),\n",
        "                loss = 'binary_crossentropy',\n",
        "                metrics = ['accuracy'])\n",
        "\n",
        "  ### END CODE HERE\n",
        "\n",
        "  return model\n"
      ]
    },
    {
      "cell_type": "code",
      "execution_count": null,
      "metadata": {
        "id": "cL6ga5Z1783H",
        "tags": [
          "graded"
        ],
        "colab": {
          "base_uri": "https://localhost:8080/"
        },
        "outputId": "c3ad0269-a318-4a1d-bcf0-403ff0d97486"
      },
      "outputs": [
        {
          "output_type": "stream",
          "name": "stdout",
          "text": [
            "[INFO] compiling model...\n",
            "There are 2,422,210 total parameters in this model.\n",
            "There are 164,226 trainable parameters in this model.\n"
          ]
        }
      ],
      "source": [
        "# Save your model in a variable\n",
        "model = create_final_model(pre_trained_model, last_output)\n",
        "\n",
        "# Inspect parameters\n",
        "total_params = model.count_params()\n",
        "num_trainable_params = sum([w.shape.num_elements() for w in model.trainable_weights])\n",
        "\n",
        "print(f\"There are {total_params:,} total parameters in this model.\")\n",
        "print(f\"There are {num_trainable_params:,} trainable parameters in this model.\")"
      ]
    },
    {
      "cell_type": "code",
      "execution_count": null,
      "metadata": {
        "id": "Blhq2MAUeyGA",
        "tags": [],
        "colab": {
          "base_uri": "https://localhost:8080/"
        },
        "outputId": "f58f3569-1b88-4e75-fb86-c5478dca890e"
      },
      "outputs": [
        {
          "output_type": "stream",
          "name": "stdout",
          "text": [
            "Epoch 1/20\n",
            "36/36 - 86s - loss: 0.6553 - accuracy: 0.6713 - val_loss: 0.3871 - val_accuracy: 0.9070 - 86s/epoch - 2s/step\n",
            "Epoch 2/20\n",
            "36/36 - 81s - loss: 0.3839 - accuracy: 0.8730 - val_loss: 0.2581 - val_accuracy: 0.9457 - 81s/epoch - 2s/step\n",
            "Epoch 3/20\n",
            "36/36 - 76s - loss: 0.3060 - accuracy: 0.8948 - val_loss: 0.2019 - val_accuracy: 0.9612 - 76s/epoch - 2s/step\n",
            "Epoch 4/20\n",
            "36/36 - 82s - loss: 0.2443 - accuracy: 0.9270 - val_loss: 0.1443 - val_accuracy: 0.9690 - 82s/epoch - 2s/step\n",
            "Epoch 5/20\n",
            "36/36 - 77s - loss: 0.2072 - accuracy: 0.9426 - val_loss: 0.1577 - val_accuracy: 0.9690 - 77s/epoch - 2s/step\n",
            "Epoch 6/20\n",
            "36/36 - 77s - loss: 0.1917 - accuracy: 0.9383 - val_loss: 0.1519 - val_accuracy: 0.9535 - 77s/epoch - 2s/step\n",
            "Epoch 7/20\n",
            "36/36 - 77s - loss: 0.1828 - accuracy: 0.9435 - val_loss: 0.1273 - val_accuracy: 0.9612 - 77s/epoch - 2s/step\n",
            "Epoch 8/20\n",
            "36/36 - 77s - loss: 0.1396 - accuracy: 0.9522 - val_loss: 0.1002 - val_accuracy: 0.9690 - 77s/epoch - 2s/step\n",
            "Epoch 9/20\n",
            "36/36 - 79s - loss: 0.1521 - accuracy: 0.9478 - val_loss: 0.1042 - val_accuracy: 0.9612 - 79s/epoch - 2s/step\n",
            "Epoch 10/20\n",
            "36/36 - 77s - loss: 0.1464 - accuracy: 0.9557 - val_loss: 0.1144 - val_accuracy: 0.9612 - 77s/epoch - 2s/step\n",
            "Epoch 11/20\n",
            "36/36 - 86s - loss: 0.1340 - accuracy: 0.9487 - val_loss: 0.0970 - val_accuracy: 0.9612 - 86s/epoch - 2s/step\n",
            "Epoch 12/20\n",
            "36/36 - 78s - loss: 0.1165 - accuracy: 0.9600 - val_loss: 0.1169 - val_accuracy: 0.9767 - 78s/epoch - 2s/step\n",
            "Epoch 13/20\n",
            "36/36 - 77s - loss: 0.1040 - accuracy: 0.9739 - val_loss: 0.0607 - val_accuracy: 0.9767 - 77s/epoch - 2s/step\n",
            "Epoch 14/20\n",
            "36/36 - 75s - loss: 0.0994 - accuracy: 0.9704 - val_loss: 0.0746 - val_accuracy: 0.9845 - 75s/epoch - 2s/step\n",
            "Epoch 15/20\n",
            "36/36 - 77s - loss: 0.0979 - accuracy: 0.9722 - val_loss: 0.0679 - val_accuracy: 0.9922 - 77s/epoch - 2s/step\n",
            "Epoch 16/20\n",
            "36/36 - 76s - loss: 0.1038 - accuracy: 0.9670 - val_loss: 0.0673 - val_accuracy: 0.9767 - 76s/epoch - 2s/step\n",
            "Epoch 17/20\n",
            "36/36 - 77s - loss: 0.0995 - accuracy: 0.9704 - val_loss: 0.0888 - val_accuracy: 0.9612 - 77s/epoch - 2s/step\n",
            "Epoch 18/20\n",
            "36/36 - 74s - loss: 0.0922 - accuracy: 0.9748 - val_loss: 0.0479 - val_accuracy: 1.0000 - 74s/epoch - 2s/step\n",
            "Epoch 19/20\n",
            "36/36 - 84s - loss: 0.0916 - accuracy: 0.9687 - val_loss: 0.0499 - val_accuracy: 0.9767 - 84s/epoch - 2s/step\n",
            "Epoch 20/20\n",
            "36/36 - 77s - loss: 0.0949 - accuracy: 0.9661 - val_loss: 0.0724 - val_accuracy: 0.9690 - 77s/epoch - 2s/step\n"
          ]
        }
      ],
      "source": [
        "\n",
        "# Run this and see how many epochs it should take before the callback\n",
        "# fires, and stops training at 99.9% accuracy\n",
        "# (It should take a few epochs)\n",
        "callbacks = myCallback()\n",
        "history = model.fit(train_generator,\n",
        "                    validation_data = validation_generator,\n",
        "                    epochs = 20,\n",
        "                    verbose = 2,\n",
        "                    callbacks=callbacks)"
      ]
    },
    {
      "cell_type": "code",
      "source": [
        "#Save Model\n",
        "model.save(\"Face_Mask_Model.h5\")"
      ],
      "metadata": {
        "id": "2PI4X6HNauX9"
      },
      "execution_count": null,
      "outputs": []
    },
    {
      "cell_type": "code",
      "source": [
        "from imutils import paths\n",
        "import matplotlib.pyplot as plt\n",
        "import numpy as np\n",
        "import argparse\n",
        "import os"
      ],
      "metadata": {
        "id": "7shpU0rUc87M"
      },
      "execution_count": null,
      "outputs": []
    },
    {
      "cell_type": "code",
      "source": [
        "# Plot the training and validation accuracies for each epoch\n",
        "\n",
        "acc = history.history['accuracy']\n",
        "val_acc = history.history['val_accuracy']\n",
        "loss = history.history['loss']\n",
        "val_loss = history.history['val_loss']\n",
        "\n",
        "epochs = range(len(acc))\n",
        "\n",
        "plt.style.use(\"ggplot\")\n",
        "plt.plot(epochs, acc, 'r', label='Training accuracy')\n",
        "plt.plot(epochs, val_acc, 'b', label='Validation accuracy')\n",
        "plt.plot(epochs, loss, 'r', label='Training loss')\n",
        "plt.plot(epochs, val_loss, 'b', label='Validation loss')\n",
        "plt.title('Training & validation Loss & accuracy')\n",
        "plt.xlabel(\"Epoch #\")\n",
        "plt.ylabel(\"Loss/Accuracy\")\n",
        "plt.legend(loc=0)\n",
        "plt.figure()\n",
        "plt.show()\n",
        "plt.savefig(\"fig.png\")\n"
      ],
      "metadata": {
        "id": "0lRORC4E8U6p",
        "colab": {
          "base_uri": "https://localhost:8080/",
          "height": 512
        },
        "outputId": "d073522c-ae8c-4696-d535-a19e35711c99"
      },
      "execution_count": null,
      "outputs": [
        {
          "output_type": "display_data",
          "data": {
            "text/plain": [
              "<Figure size 640x480 with 1 Axes>"
            ],
            "image/png": "[encoded data removed]"
          },
          "metadata": {}
        },
        {
          "output_type": "display_data",
          "data": {
            "text/plain": [
              "<Figure size 640x480 with 0 Axes>"
            ]
          },
          "metadata": {}
        },
        {
          "output_type": "display_data",
          "data": {
            "text/plain": [
              "<Figure size 640x480 with 0 Axes>"
            ]
          },
          "metadata": {}
        }
      ]
    },
    {
      "cell_type": "code",
      "source": [
        "# # make predictions on the testing set\n",
        "# print(\"[INFO] evaluating network...\")\n",
        "# predIdxs = model.predict(testX, batch_size=BS)\n",
        "# # for each image in the testing set we need to find the index of the\n",
        "# # label with corresponding largest predicted probability\n",
        "# predIdxs = np.argmax(predIdxs, axis=1)\n",
        "# # show a nicely formatted classification report\n",
        "# print(classification_report(testY.argmax(axis=1), predIdxs,\n",
        "# \ttarget_names=lb.classes_))\n",
        "# # serialize the model to disk\n",
        "# print(\"[INFO] saving mask detector model...\")\n",
        "# model.save(args[\"model\"], save_format=\"h5\")"
      ],
      "metadata": {
        "id": "ecNNhUrfPlJj"
      },
      "execution_count": null,
      "outputs": []
    },
    {
      "cell_type": "markdown",
      "source": [
        "## Detect_image.py"
      ],
      "metadata": {
        "id": "CwA8rQwxtt9l"
      }
    },
    {
      "cell_type": "code",
      "source": [
        "# import the necessary packages\n",
        "from tensorflow.keras.applications.mobilenet_v2 import preprocess_input\n",
        "from tensorflow.keras.preprocessing.image import img_to_array\n",
        "from tensorflow.keras.models import load_model\n",
        "import numpy as np\n",
        "import argparse\n",
        "import cv2\n",
        "import os"
      ],
      "metadata": {
        "id": "sB0KU84EszAi"
      },
      "execution_count": null,
      "outputs": []
    },
    {
      "cell_type": "code",
      "source": [
        "# construct the argument parser and parse the arguments\n",
        "\n",
        "\n",
        "ap = argparse.ArgumentParser()\n",
        "ap.add_argument(\"-i\", \"--image\", type=str,\n",
        "\thelp=\"path to input image\")\n",
        "ap.add_argument(\"-f\", \"--face\", type=str,\n",
        "\tdefault=\"face_detector\",\n",
        "\thelp=\"path to face detector model directory\")\n",
        "ap.add_argument(\"-m\", \"--model\", type=str,\n",
        "\tdefault=\"mask_detector.model\",\n",
        "\thelp=\"path to trained face mask detector model\")\n",
        "ap.add_argument(\"-c\", \"--confidence\", type=float, default=0.5,\n",
        "\thelp=\"minimum probability to filter weak detections\")\n",
        "args = vars(ap.parse_args())"
      ],
      "metadata": {
        "id": "YWRt-XlRtzN2"
      },
      "execution_count": null,
      "outputs": []
    },
    {
      "cell_type": "code",
      "source": [],
      "metadata": {
        "id": "DlLvRWj1zrZl"
      },
      "execution_count": null,
      "outputs": []
    }
  ]
}